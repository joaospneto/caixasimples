{
  "nbformat": 4,
  "nbformat_minor": 0,
  "metadata": {
    "colab": {
      "provenance": [],
      "authorship_tag": "ABX9TyPC1ZIvmpAz+Wdh1Pusukak",
      "include_colab_link": true
    },
    "kernelspec": {
      "name": "python3",
      "display_name": "Python 3"
    },
    "language_info": {
      "name": "python"
    }
  },
  "cells": [
    {
      "cell_type": "markdown",
      "metadata": {
        "id": "view-in-github",
        "colab_type": "text"
      },
      "source": [
        "<a href=\"https://colab.research.google.com/github/joaospneto/caixasimples/blob/main/Untitled11.ipynb\" target=\"_parent\"><img src=\"https://colab.research.google.com/assets/colab-badge.svg\" alt=\"Open In Colab\"/></a>"
      ]
    },
    {
      "cell_type": "code",
      "execution_count": 4,
      "metadata": {
        "colab": {
          "base_uri": "https://localhost:8080/"
        },
        "id": "gVvNIRWzbD3g",
        "outputId": "2af0190b-ff3c-4995-be6d-8ff28f96a820"
      },
      "outputs": [
        {
          "output_type": "stream",
          "name": "stdout",
          "text": [
            "Requirement already satisfied: pandas in /usr/local/lib/python3.10/dist-packages (2.0.3)\n",
            "Requirement already satisfied: python-dateutil>=2.8.2 in /usr/local/lib/python3.10/dist-packages (from pandas) (2.8.2)\n",
            "Requirement already satisfied: pytz>=2020.1 in /usr/local/lib/python3.10/dist-packages (from pandas) (2023.4)\n",
            "Requirement already satisfied: tzdata>=2022.1 in /usr/local/lib/python3.10/dist-packages (from pandas) (2024.1)\n",
            "Requirement already satisfied: numpy>=1.21.0 in /usr/local/lib/python3.10/dist-packages (from pandas) (1.25.2)\n",
            "Requirement already satisfied: six>=1.5 in /usr/local/lib/python3.10/dist-packages (from python-dateutil>=2.8.2->pandas) (1.16.0)\n"
          ]
        }
      ],
      "source": [
        "!pip install pandas"
      ]
    },
    {
      "cell_type": "code",
      "source": [
        "import pandas as pd"
      ],
      "metadata": {
        "id": "WVuwH7cubeu9"
      },
      "execution_count": 9,
      "outputs": []
    },
    {
      "cell_type": "code",
      "source": [
        "def vender(produto):\n",
        "\n",
        "    \"\"\"\n",
        "    Esta função realiza a venda do produto.\n",
        "\n",
        "    Argumentos:\n",
        "        produto: O DataFrame do produto a ser vendido.\n",
        "\n",
        "    Retorna:\n",
        "        None.\n",
        "    \"\"\"\n",
        "\n",
        "    quantidade = int(input(\"Insira a quantidade que deseja vender: \"))\n",
        "    valor_u = float(input(\"Insira o valor por unidade para a venda: \"))\n",
        "    valor_total = quantidade * valor_u\n",
        "\n",
        "    p = produto.values.tolist()\n",
        "    if not p:\n",
        "        print(\"Produto não encontrado.\")\n",
        "        return\n",
        "\n",
        "    p = p[0]\n",
        "    quantidade_estoque = p[4]\n",
        "    if quantidade > quantidade_estoque:\n",
        "        print(f\"Venda negada! Falta de estoque. Você possui {quantidade_estoque} unidades.\")\n",
        "        return\n",
        "\n",
        "    valor_min = p[3] * (1 - p[4])\n",
        "    if valor_u < valor_min:\n",
        "        print(f\"Venda negada! O valor mínimo de venda é R${valor_min:.2f}.\")\n",
        "        return\n",
        "\n",
        "    print(f\"Venda autorizada pelo valor: R${valor_total}\")\n",
        "    df.loc[df[\"Nome\"] == p[0], \"Quantidade\"] -= quantidade\n",
        "    df.loc[df[\"Nome\"] == p[0], \"Valor vendido\"] += valor_total\n",
        "    df.to_excel(\"/content/Motim_Mutimercado (1).xlsx\", index=False)\n",
        "\n",
        "    # Exibir informações de finalização\n",
        "    print(f\"Estoque final: {df.loc[df['Nome'] == p[0], 'Quantidade'].values[0]}\")\n",
        "\n",
        "\n",
        "def main():\n",
        "    \"\"\"\n",
        "    Função principal que executa o programa.\n",
        "    \"\"\"\n",
        "\n",
        "    while True:\n",
        "        produto = procura_prod()\n",
        "        if produto is not None:\n",
        "            vender(produto)\n",
        "\n",
        "        ver = input(\"Digite 's' para sair ou qualquer tecla para continuar: \").lower()\n",
        "        if ver == \"s\":\n",
        "            print(\"Caixa fechado!\")\n",
        "            break\n",
        "\n",
        "\n",
        "if __name__ == \"__main__\":\n",
        "    main()\n",
        "\n",
        "\n",
        "\n",
        "\n",
        "\n"
      ],
      "metadata": {
        "colab": {
          "base_uri": "https://localhost:8080/"
        },
        "id": "ZAv7IyLycEpr",
        "outputId": "c897666d-8510-4b08-b809-630a2a6e6a39"
      },
      "execution_count": 77,
      "outputs": [
        {
          "output_type": "stream",
          "name": "stdout",
          "text": [
            "Insira o nome do produto: ovos\n",
            "Insira a quantidade que deseja vender: 5\n",
            "Insira o valor por unidade para a venda: 15\n",
            "Venda negada! Falta de estoque. Você possui 0.1 unidades.\n",
            "Digite 's' para sair ou qualquer tecla para continuar: s\n",
            "Caixa fechado!\n"
          ]
        }
      ]
    },
    {
      "cell_type": "code",
      "source": [
        "print(df)"
      ],
      "metadata": {
        "colab": {
          "base_uri": "https://localhost:8080/"
        },
        "id": "RKk_Yu6vcOdq",
        "outputId": "64364386-6b98-4a15-ff62-6a27ee95d275"
      },
      "execution_count": 71,
      "outputs": [
        {
          "output_type": "stream",
          "name": "stdout",
          "text": [
            "                    Nome  Quantidade  Valor de compra  Valor de venda  \\\n",
            "0               Laranjas         226             2.72            4.69   \n",
            "1                  Maçãs         338             6.95           11.99   \n",
            "2                Bananas         174             4.30            9.99   \n",
            "3                 Alface         138             1.11            2.59   \n",
            "4                Tomates         351             5.93           10.99   \n",
            "5                Abóbora          50             2.41            6.19   \n",
            "6                   Aipo         109             1.41            2.39   \n",
            "7                 Pepino          90             2.00            5.89   \n",
            "8              Cogumelos         278             7.72           14.29   \n",
            "9                  Leite         125             4.46            7.69   \n",
            "10                Queijo          18             8.31           22.47   \n",
            "11                  Ovos         339             7.13           13.99   \n",
            "12        Queijo Cottage         338             6.34           13.49   \n",
            "13              Coalhada         337             1.58            3.29   \n",
            "14               Iogurte         156             1.58            3.59   \n",
            "15                 Carne         170            15.69           43.59   \n",
            "16                Salmão         293            28.80           59.99   \n",
            "17                 Arroz          75             2.74            5.95   \n",
            "18                Azeite         125            14.45           28.90   \n",
            "19  Bolachas e biscoitos         180             1.32            3.39   \n",
            "20                  Café         281             8.45           17.98   \n",
            "21                   Chá         253             2.59            6.99   \n",
            "22                  Atum          35             3.92            7.99   \n",
            "23     Extrato de tomate         210             1.08            2.99   \n",
            "24                Farofa          26             5.79            9.99   \n",
            "25                Feijão         131             3.69            9.97   \n",
            "26           Leite em pó         309             8.05           15.49   \n",
            "27              Macarrão         297             2.85            5.69   \n",
            "28              Maionese         394             4.63            9.44   \n",
            "29                  Óleo         179             4.29            7.95   \n",
            "30       Tempero pronto.         105             2.61            4.75   \n",
            "31              Sardinha         379             2.49            5.79   \n",
            "32                 Milho          31             1.95            3.55   \n",
            "33               Ervilha         325             2.03            3.39   \n",
            "\n",
            "    Maximo desconto (%)  Valor vendido    Id  \n",
            "0                  0.05             50  1001  \n",
            "1                  0.05              0  1002  \n",
            "2                  0.05              0  1003  \n",
            "3                  0.10              0  1004  \n",
            "4                  0.10              0  1005  \n",
            "5                  0.05              0  1006  \n",
            "6                  0.05              0  1007  \n",
            "7                  0.10              0  1008  \n",
            "8                  0.05              0  1009  \n",
            "9                  0.05              0  1010  \n",
            "10                 0.10              0  1011  \n",
            "11                 0.10              0  1012  \n",
            "12                 0.05              0  1013  \n",
            "13                 0.10              0  1014  \n",
            "14                 0.10              0  1015  \n",
            "15                 0.10              0  1016  \n",
            "16                 0.05              0  1017  \n",
            "17                 0.05              0  1018  \n",
            "18                 0.05              0  1019  \n",
            "19                 0.10              0  1020  \n",
            "20                 0.10              0  1021  \n",
            "21                 0.05              0  1022  \n",
            "22                 0.05              0  1023  \n",
            "23                 0.10              0  1024  \n",
            "24                 0.05              0  1025  \n",
            "25                 0.05              0  1026  \n",
            "26                 0.05              0  1027  \n",
            "27                 0.05              0  1028  \n",
            "28                 0.05              0  1029  \n",
            "29                 0.05              0  1030  \n",
            "30                 0.05              0  1031  \n",
            "31                 0.05              0  1032  \n",
            "32                 0.10              0  1033  \n",
            "33                 0.10              0  1034  \n"
          ]
        }
      ]
    },
    {
      "cell_type": "code",
      "source": [],
      "metadata": {
        "id": "23D3o0Ujhgcf"
      },
      "execution_count": null,
      "outputs": []
    }
  ]
}